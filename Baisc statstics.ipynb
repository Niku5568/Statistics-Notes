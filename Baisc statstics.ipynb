{
 "cells": [
  {
   "cell_type": "raw",
   "id": "d246ac24-dd78-473e-86b7-bbb7bbf707a8",
   "metadata": {},
   "source": [
    "# Mean: \n",
    "The average of a set of numbers. \n",
    "It is calculated by adding up all the values and dividing by the total number of values. \n",
    "In Python, it can be calculated using mean() from statistics or numpy.mean().\n"
   ]
  },
  {
   "cell_type": "raw",
   "id": "20cfff30-52ae-4b20-b736-dedd3bedb439",
   "metadata": {},
   "source": [
    "# Median: \n",
    "The middle value of a data set when arranged in ascending order.\n",
    "If the number of values is even, the median is the average of the two middle numbers. \n",
    "Use statistics.median() in Python.\n"
   ]
  },
  {
   "cell_type": "raw",
   "id": "759aea28-7005-4c5e-ac12-f1d2b5ede850",
   "metadata": {},
   "source": [
    "# Mode: \n",
    "The value that appears most frequently in a data set. \n",
    "If multiple values occur with the same frequency, the mode may be a list. \n",
    "Use statistics.mode() in Python.\n"
   ]
  },
  {
   "cell_type": "raw",
   "id": "ef25f714-0bb6-4f61-ae63-ddeddb1855b2",
   "metadata": {},
   "source": [
    "# Range: \n",
    "The difference between the maximum and minimum values in a data set. \n",
    "It shows how spread out the data is. \n",
    "Calculate it by subtracting the smallest value from the largest: max(data) - min(data).\n"
   ]
  },
  {
   "cell_type": "raw",
   "id": "c8ece0dc-e704-436d-a13a-0f7f20ab6f74",
   "metadata": {},
   "source": [
    "# IQR (Interquartile Range): \n",
    "The range of the middle 50% of a dataset, found by subtracting the first quartile (Q1) from the third quartile (Q3). \n",
    "It is used to measure statistical dispersion. \n",
    "It can be computed using numpy.percentile() or scipy.stats.iqr().\n"
   ]
  },
  {
   "cell_type": "raw",
   "id": "41a45f1d-cfea-4974-b33b-68b4e46df3c3",
   "metadata": {},
   "source": [
    "# Variance: \n",
    "A measure of how much the values \n",
    "in a data set deviate from the mean. \n",
    "It is the average of the squared differences from the mean. \n",
    "Use statistics.variance() or numpy.var() in Python.\n"
   ]
  },
  {
   "cell_type": "raw",
   "id": "14843c95-c398-4c2f-a602-c8fe8656dd9a",
   "metadata": {},
   "source": [
    "# Standard Deviation (std): \n",
    "The square root of the variance, it gives a measure of how spread out the numbers in a data set are. \n",
    "It can be calculated using statistics.stdev() or numpy.std().\n"
   ]
  },
  {
   "cell_type": "raw",
   "id": "91974b5f-6f4e-4776-a09a-32a39f01b4c1",
   "metadata": {},
   "source": [
    "# Percentiles: \n",
    "Percentiles divide a data set into 100 equal parts. \n",
    "For example, the 90th percentile means 90% of the data falls below this value. \n",
    "Use numpy.percentile() in Python.\n",
    "\n"
   ]
  },
  {
   "cell_type": "raw",
   "id": "ae27bdb6-bfec-438e-b9d2-88c305b5d659",
   "metadata": {},
   "source": [
    "# Normal Distribution: \n",
    "A bell-shaped probability distribution where most values cluster around the mean and the probability tails off symmetrically as you move further away. It can be modeled using scipy.stats.norm().\n"
   ]
  },
  {
   "cell_type": "raw",
   "id": "d8332108-1b28-47cf-8210-b403e4f4dcd0",
   "metadata": {},
   "source": [
    "# Skewness: \n",
    "A measure of the asymmetry of the distribution of data. \n",
    "Positive skew means data is skewed right, while negative skew indicates data is skewed left. \n",
    "Use scipy.stats.skew().\n",
    "\n"
   ]
  },
  {
   "cell_type": "raw",
   "id": "96827088-d358-455e-9914-339a5cdd6b52",
   "metadata": {},
   "source": [
    "# Kurtosis: \n",
    "A measure of the \"tailedness\" or sharpness of a distribution. \n",
    "High kurtosis means more outliers, while low kurtosis indicates fewer outliers. \n",
    "It can be calculated using scipy.stats.kurtosis() in Python.\n"
   ]
  },
  {
   "cell_type": "code",
   "execution_count": 1,
   "id": "b03ffdef-937b-4ff2-b9c3-bd829bb3f99a",
   "metadata": {},
   "outputs": [],
   "source": [
    "import matplotlib.pyplot as plt\n",
    "import seaborn as sns\n",
    "import pandas as pd\n",
    "import numpy as np"
   ]
  },
  {
   "cell_type": "code",
   "execution_count": 2,
   "id": "c084102c-86e5-494b-8f56-86a1eea73bf8",
   "metadata": {},
   "outputs": [
    {
     "data": {
      "text/html": [
       "<div>\n",
       "<style scoped>\n",
       "    .dataframe tbody tr th:only-of-type {\n",
       "        vertical-align: middle;\n",
       "    }\n",
       "\n",
       "    .dataframe tbody tr th {\n",
       "        vertical-align: top;\n",
       "    }\n",
       "\n",
       "    .dataframe thead th {\n",
       "        text-align: right;\n",
       "    }\n",
       "</style>\n",
       "<table border=\"1\" class=\"dataframe\">\n",
       "  <thead>\n",
       "    <tr style=\"text-align: right;\">\n",
       "      <th></th>\n",
       "      <th>A</th>\n",
       "      <th>B</th>\n",
       "      <th>C</th>\n",
       "    </tr>\n",
       "  </thead>\n",
       "  <tbody>\n",
       "    <tr>\n",
       "      <th>0</th>\n",
       "      <td>20</td>\n",
       "      <td>14</td>\n",
       "      <td>21</td>\n",
       "    </tr>\n",
       "    <tr>\n",
       "      <th>1</th>\n",
       "      <td>15</td>\n",
       "      <td>17</td>\n",
       "      <td>10</td>\n",
       "    </tr>\n",
       "    <tr>\n",
       "      <th>2</th>\n",
       "      <td>29</td>\n",
       "      <td>18</td>\n",
       "      <td>24</td>\n",
       "    </tr>\n",
       "    <tr>\n",
       "      <th>3</th>\n",
       "      <td>28</td>\n",
       "      <td>18</td>\n",
       "      <td>21</td>\n",
       "    </tr>\n",
       "    <tr>\n",
       "      <th>4</th>\n",
       "      <td>12</td>\n",
       "      <td>14</td>\n",
       "      <td>23</td>\n",
       "    </tr>\n",
       "  </tbody>\n",
       "</table>\n",
       "</div>"
      ],
      "text/plain": [
       "    A   B   C\n",
       "0  20  14  21\n",
       "1  15  17  10\n",
       "2  29  18  24\n",
       "3  28  18  21\n",
       "4  12  14  23"
      ]
     },
     "execution_count": 2,
     "metadata": {},
     "output_type": "execute_result"
    }
   ],
   "source": [
    "df=pd.DataFrame(np.random.randint(10,30,15).reshape(5,3),\n",
    "               columns=\"A, B, C\".split(\",\")\n",
    "               )\n",
    "df"
   ]
  },
  {
   "cell_type": "code",
   "execution_count": 3,
   "id": "cd5bd59d-94fb-4260-af7c-a941d5a5d409",
   "metadata": {},
   "outputs": [
    {
     "data": {
      "text/plain": [
       "A     0\n",
       " B    0\n",
       " C    0\n",
       "dtype: int64"
      ]
     },
     "execution_count": 3,
     "metadata": {},
     "output_type": "execute_result"
    }
   ],
   "source": [
    "df.isnull().sum()"
   ]
  },
  {
   "cell_type": "code",
   "execution_count": 4,
   "id": "fcaf2ed9-c0ae-406b-b0a5-8cb64bf155bb",
   "metadata": {},
   "outputs": [
    {
     "name": "stdout",
     "output_type": "stream",
     "text": [
      "<class 'pandas.core.frame.DataFrame'>\n",
      "RangeIndex: 5 entries, 0 to 4\n",
      "Data columns (total 3 columns):\n",
      " #   Column  Non-Null Count  Dtype\n",
      "---  ------  --------------  -----\n",
      " 0   A       5 non-null      int32\n",
      " 1    B      5 non-null      int32\n",
      " 2    C      5 non-null      int32\n",
      "dtypes: int32(3)\n",
      "memory usage: 192.0 bytes\n"
     ]
    }
   ],
   "source": [
    "df.info()"
   ]
  },
  {
   "cell_type": "code",
   "execution_count": 5,
   "id": "44cffc30-9df4-440c-8308-cb6079260ff5",
   "metadata": {},
   "outputs": [
    {
     "data": {
      "text/html": [
       "<div>\n",
       "<style scoped>\n",
       "    .dataframe tbody tr th:only-of-type {\n",
       "        vertical-align: middle;\n",
       "    }\n",
       "\n",
       "    .dataframe tbody tr th {\n",
       "        vertical-align: top;\n",
       "    }\n",
       "\n",
       "    .dataframe thead th {\n",
       "        text-align: right;\n",
       "    }\n",
       "</style>\n",
       "<table border=\"1\" class=\"dataframe\">\n",
       "  <thead>\n",
       "    <tr style=\"text-align: right;\">\n",
       "      <th></th>\n",
       "      <th>A</th>\n",
       "      <th>B</th>\n",
       "      <th>C</th>\n",
       "    </tr>\n",
       "  </thead>\n",
       "  <tbody>\n",
       "    <tr>\n",
       "      <th>count</th>\n",
       "      <td>5.000000</td>\n",
       "      <td>5.00000</td>\n",
       "      <td>5.000000</td>\n",
       "    </tr>\n",
       "    <tr>\n",
       "      <th>mean</th>\n",
       "      <td>20.800000</td>\n",
       "      <td>16.20000</td>\n",
       "      <td>19.800000</td>\n",
       "    </tr>\n",
       "    <tr>\n",
       "      <th>std</th>\n",
       "      <td>7.596052</td>\n",
       "      <td>2.04939</td>\n",
       "      <td>5.630275</td>\n",
       "    </tr>\n",
       "    <tr>\n",
       "      <th>min</th>\n",
       "      <td>12.000000</td>\n",
       "      <td>14.00000</td>\n",
       "      <td>10.000000</td>\n",
       "    </tr>\n",
       "    <tr>\n",
       "      <th>25%</th>\n",
       "      <td>15.000000</td>\n",
       "      <td>14.00000</td>\n",
       "      <td>21.000000</td>\n",
       "    </tr>\n",
       "    <tr>\n",
       "      <th>50%</th>\n",
       "      <td>20.000000</td>\n",
       "      <td>17.00000</td>\n",
       "      <td>21.000000</td>\n",
       "    </tr>\n",
       "    <tr>\n",
       "      <th>75%</th>\n",
       "      <td>28.000000</td>\n",
       "      <td>18.00000</td>\n",
       "      <td>23.000000</td>\n",
       "    </tr>\n",
       "    <tr>\n",
       "      <th>max</th>\n",
       "      <td>29.000000</td>\n",
       "      <td>18.00000</td>\n",
       "      <td>24.000000</td>\n",
       "    </tr>\n",
       "  </tbody>\n",
       "</table>\n",
       "</div>"
      ],
      "text/plain": [
       "               A         B          C\n",
       "count   5.000000   5.00000   5.000000\n",
       "mean   20.800000  16.20000  19.800000\n",
       "std     7.596052   2.04939   5.630275\n",
       "min    12.000000  14.00000  10.000000\n",
       "25%    15.000000  14.00000  21.000000\n",
       "50%    20.000000  17.00000  21.000000\n",
       "75%    28.000000  18.00000  23.000000\n",
       "max    29.000000  18.00000  24.000000"
      ]
     },
     "execution_count": 5,
     "metadata": {},
     "output_type": "execute_result"
    }
   ],
   "source": [
    "df.describe(include=\"all\")"
   ]
  },
  {
   "cell_type": "code",
   "execution_count": 6,
   "id": "f9d30e0a-b1e5-4869-bcba-e492e1df0eda",
   "metadata": {},
   "outputs": [
    {
     "data": {
      "text/plain": [
       "0    20\n",
       "1    15\n",
       "2    29\n",
       "3    28\n",
       "4    12\n",
       "Name: A, dtype: int32"
      ]
     },
     "execution_count": 6,
     "metadata": {},
     "output_type": "execute_result"
    }
   ],
   "source": [
    "df[\"A\"]"
   ]
  },
  {
   "cell_type": "code",
   "execution_count": 7,
   "id": "479eca39-4c3e-41e5-ba98-e3e642eef158",
   "metadata": {},
   "outputs": [
    {
     "data": {
      "text/plain": [
       "20.8"
      ]
     },
     "execution_count": 7,
     "metadata": {},
     "output_type": "execute_result"
    }
   ],
   "source": [
    "df[\"A\"].mean()"
   ]
  },
  {
   "cell_type": "code",
   "execution_count": 8,
   "id": "06350243-b7e4-400b-94fc-299fecf93929",
   "metadata": {},
   "outputs": [
    {
     "data": {
      "text/plain": [
       "0    12\n",
       "1    15\n",
       "2    20\n",
       "3    28\n",
       "4    29\n",
       "Name: A, dtype: int32"
      ]
     },
     "execution_count": 8,
     "metadata": {},
     "output_type": "execute_result"
    }
   ],
   "source": [
    "df[\"A\"].mode()"
   ]
  },
  {
   "cell_type": "code",
   "execution_count": 9,
   "id": "d746de32-78a2-4049-8b99-7e3d148cb249",
   "metadata": {},
   "outputs": [
    {
     "data": {
      "text/plain": [
       "<bound method Series.median of 0    20\n",
       "1    15\n",
       "2    29\n",
       "3    28\n",
       "4    12\n",
       "Name: A, dtype: int32>"
      ]
     },
     "execution_count": 9,
     "metadata": {},
     "output_type": "execute_result"
    }
   ],
   "source": [
    "df[\"A\"].median"
   ]
  },
  {
   "cell_type": "code",
   "execution_count": 10,
   "id": "22aa4c18-0549-4348-a265-711c03ef84a3",
   "metadata": {},
   "outputs": [
    {
     "data": {
      "text/plain": [
       "57.7"
      ]
     },
     "execution_count": 10,
     "metadata": {},
     "output_type": "execute_result"
    }
   ],
   "source": [
    "df[\"A\"].var()"
   ]
  },
  {
   "cell_type": "code",
   "execution_count": 11,
   "id": "380884bb-db15-4014-8437-b13f2443bd60",
   "metadata": {},
   "outputs": [
    {
     "data": {
      "text/plain": [
       "7.5960516059331775"
      ]
     },
     "execution_count": 11,
     "metadata": {},
     "output_type": "execute_result"
    }
   ],
   "source": [
    "df[\"A\"].std()"
   ]
  },
  {
   "cell_type": "code",
   "execution_count": 12,
   "id": "4f0136e9-025e-447b-97c0-468289502482",
   "metadata": {},
   "outputs": [
    {
     "data": {
      "text/html": [
       "<div>\n",
       "<style scoped>\n",
       "    .dataframe tbody tr th:only-of-type {\n",
       "        vertical-align: middle;\n",
       "    }\n",
       "\n",
       "    .dataframe tbody tr th {\n",
       "        vertical-align: top;\n",
       "    }\n",
       "\n",
       "    .dataframe thead th {\n",
       "        text-align: right;\n",
       "    }\n",
       "</style>\n",
       "<table border=\"1\" class=\"dataframe\">\n",
       "  <thead>\n",
       "    <tr style=\"text-align: right;\">\n",
       "      <th></th>\n",
       "      <th>A</th>\n",
       "      <th>B</th>\n",
       "      <th>C</th>\n",
       "    </tr>\n",
       "  </thead>\n",
       "  <tbody>\n",
       "    <tr>\n",
       "      <th>A</th>\n",
       "      <td>1.000000</td>\n",
       "      <td>0.709822</td>\n",
       "      <td>0.413862</td>\n",
       "    </tr>\n",
       "    <tr>\n",
       "      <th>B</th>\n",
       "      <td>0.709822</td>\n",
       "      <td>1.000000</td>\n",
       "      <td>-0.168998</td>\n",
       "    </tr>\n",
       "    <tr>\n",
       "      <th>C</th>\n",
       "      <td>0.413862</td>\n",
       "      <td>-0.168998</td>\n",
       "      <td>1.000000</td>\n",
       "    </tr>\n",
       "  </tbody>\n",
       "</table>\n",
       "</div>"
      ],
      "text/plain": [
       "           A         B         C\n",
       "A   1.000000  0.709822  0.413862\n",
       " B  0.709822  1.000000 -0.168998\n",
       " C  0.413862 -0.168998  1.000000"
      ]
     },
     "execution_count": 12,
     "metadata": {},
     "output_type": "execute_result"
    }
   ],
   "source": [
    "df.corr()"
   ]
  },
  {
   "cell_type": "code",
   "execution_count": 13,
   "id": "bf1bd740-b297-46b5-8fca-fc859eb0eba5",
   "metadata": {},
   "outputs": [
    {
     "data": {
      "text/plain": [
       "<Axes: >"
      ]
     },
     "execution_count": 13,
     "metadata": {},
     "output_type": "execute_result"
    },
    {
     "data": {
      "image/png": "[encoded data removed]",
      "text/plain": [
       "<Figure size 640x480 with 2 Axes>"
      ]
     },
     "metadata": {},
     "output_type": "display_data"
    }
   ],
   "source": [
    "sns.heatmap(df.corr())"
   ]
  },
  {
   "cell_type": "code",
   "execution_count": 14,
   "id": "eea771f5-7c68-4461-b947-c0628f4832a7",
   "metadata": {},
   "outputs": [
    {
     "data": {
      "text/plain": [
       "<Axes: >"
      ]
     },
     "execution_count": 14,
     "metadata": {},
     "output_type": "execute_result"
    },
    {
     "data": {
      "image/png": "[encoded data removed]",
      "text/plain": [
       "<Figure size 640x480 with 1 Axes>"
      ]
     },
     "metadata": {},
     "output_type": "display_data"
    }
   ],
   "source": [
    "sns.boxplot(df[\"A\"])"
   ]
  },
  {
   "cell_type": "code",
   "execution_count": 15,
   "id": "b46353b5-2320-4dde-b932-3118a5f4c0a2",
   "metadata": {},
   "outputs": [
    {
     "name": "stderr",
     "output_type": "stream",
     "text": [
      "C:\\Users\\DELL\\AppData\\Local\\Temp\\ipykernel_6632\\264183693.py:1: UserWarning: \n",
      "\n",
      "`distplot` is a deprecated function and will be removed in seaborn v0.14.0.\n",
      "\n",
      "Please adapt your code to use either `displot` (a figure-level function with\n",
      "similar flexibility) or `histplot` (an axes-level function for histograms).\n",
      "\n",
      "For a guide to updating your code to use the new functions, please see\n",
      "https://gist.github.com/mwaskom/de44147ed2974457ad6372750bbe5751\n",
      "\n",
      "  sns.distplot(df[\"A\"])\n",
      "C:\\ProgramData\\anaconda3\\Lib\\site-packages\\seaborn\\_oldcore.py:1119: FutureWarning: use_inf_as_na option is deprecated and will be removed in a future version. Convert inf values to NaN before operating instead.\n",
      "  with pd.option_context('mode.use_inf_as_na', True):\n"
     ]
    },
    {
     "data": {
      "text/plain": [
       "<Axes: xlabel='A', ylabel='Density'>"
      ]
     },
     "execution_count": 15,
     "metadata": {},
     "output_type": "execute_result"
    },
    {
     "data": {
      "image/png": "[encoded data removed]",
      "text/plain": [
       "<Figure size 640x480 with 1 Axes>"
      ]
     },
     "metadata": {},
     "output_type": "display_data"
    }
   ],
   "source": [
    "sns.distplot(df[\"A\"])"
   ]
  },
  {
   "cell_type": "code",
   "execution_count": 16,
   "id": "f46698b1-a195-441c-8213-13cc2ad2db0a",
   "metadata": {},
   "outputs": [
    {
     "name": "stderr",
     "output_type": "stream",
     "text": [
      "C:\\ProgramData\\anaconda3\\Lib\\site-packages\\seaborn\\_oldcore.py:1119: FutureWarning: use_inf_as_na option is deprecated and will be removed in a future version. Convert inf values to NaN before operating instead.\n",
      "  with pd.option_context('mode.use_inf_as_na', True):\n"
     ]
    },
    {
     "data": {
      "text/plain": [
       "<Axes: xlabel='A', ylabel='Density'>"
      ]
     },
     "execution_count": 16,
     "metadata": {},
     "output_type": "execute_result"
    },
    {
     "data": {
      "image/png": "[encoded data removed]",
      "text/plain": [
       "<Figure size 640x480 with 1 Axes>"
      ]
     },
     "metadata": {},
     "output_type": "display_data"
    }
   ],
   "source": [
    "sns.kdeplot(df[\"A\"])"
   ]
  },
  {
   "cell_type": "code",
   "execution_count": 17,
   "id": "7979f3b8-60cd-4083-9d0d-6d734a9b1935",
   "metadata": {},
   "outputs": [],
   "source": [
    "from scipy.stats import iqr"
   ]
  },
  {
   "cell_type": "code",
   "execution_count": 18,
   "id": "6883f3bd-da87-4ec6-8e71-941b71f1d33e",
   "metadata": {},
   "outputs": [
    {
     "data": {
      "text/plain": [
       "13.0"
      ]
     },
     "execution_count": 18,
     "metadata": {},
     "output_type": "execute_result"
    }
   ],
   "source": [
    "iqr(df[\"A\"])"
   ]
  },
  {
   "cell_type": "code",
   "execution_count": 19,
   "id": "9645ad44-71e9-4d75-bdec-41718c7179bb",
   "metadata": {},
   "outputs": [],
   "source": [
    "# iqr help to find the min and max value from the data to find the outlier."
   ]
  },
  {
   "cell_type": "code",
   "execution_count": 20,
   "id": "f9299bf0-6f77-4c1e-bb2e-d824df469f72",
   "metadata": {},
   "outputs": [],
   "source": [
    "# right skewness\n",
    "# mean > median\n",
    "# formula : 3 * (mean-median)/std\n"
   ]
  },
  {
   "cell_type": "code",
   "execution_count": 21,
   "id": "6f9e0842-62e0-451a-a2ad-9ae9617013f7",
   "metadata": {},
   "outputs": [],
   "source": [
    "# left skewness\n",
    "# mean < median\n",
    "# formula : 0 < 3 * (mean-median)/std\n"
   ]
  },
  {
   "cell_type": "code",
   "execution_count": null,
   "id": "1259d3e7-5878-43d7-99b9-dcea3dbec317",
   "metadata": {},
   "outputs": [],
   "source": []
  },
  {
   "cell_type": "code",
   "execution_count": null,
   "id": "fa4af2b8-3c2d-4553-8140-447b40e9c08a",
   "metadata": {},
   "outputs": [],
   "source": []
  },
  {
   "cell_type": "code",
   "execution_count": null,
   "id": "a0436e4d-7738-49a2-8107-c992b812a679",
   "metadata": {},
   "outputs": [],
   "source": []
  },
  {
   "cell_type": "code",
   "execution_count": null,
   "id": "f1337201-5156-4fa0-aeb4-5b362619a7f2",
   "metadata": {},
   "outputs": [],
   "source": []
  },
  {
   "cell_type": "code",
   "execution_count": null,
   "id": "c2871e21-c3b1-46ea-ad3a-dd9ccd82334f",
   "metadata": {},
   "outputs": [],
   "source": [
    "        "
   ]
  },
  {
   "cell_type": "code",
   "execution_count": null,
   "id": "4727e477-5056-48f1-b942-6ada863421ca",
   "metadata": {},
   "outputs": [],
   "source": []
  },
  {
   "cell_type": "code",
   "execution_count": null,
   "id": "78e6e366-c343-41f1-b698-d46185846d9b",
   "metadata": {},
   "outputs": [],
   "source": []
  }
 ],
 "metadata": {
  "kernelspec": {
   "display_name": "Python 3 (ipykernel)",
   "language": "python",
   "name": "python3"
  },
  "language_info": {
   "codemirror_mode": {
    "name": "ipython",
    "version": 3
   },
   "file_extension": ".py",
   "mimetype": "text/x-python",
   "name": "python",
   "nbconvert_exporter": "python",
   "pygments_lexer": "ipython3",
   "version": "3.11.7"
  },
  "widgets": {
   "application/vnd.jupyter.widget-state+json": {
    "state": {},
    "version_major": 2,
    "version_minor": 0
   }
  }
 },
 "nbformat": 4,
 "nbformat_minor": 5
}
